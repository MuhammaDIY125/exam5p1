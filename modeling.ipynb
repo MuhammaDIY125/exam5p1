{
 "cells": [
  {
   "cell_type": "markdown",
   "metadata": {},
   "source": [
    "## Start"
   ]
  },
  {
   "cell_type": "code",
   "execution_count": 1,
   "metadata": {},
   "outputs": [],
   "source": [
    "import optuna\n",
    "import numpy as np\n",
    "import pandas as pd\n",
    "import matplotlib.pyplot as plt\n",
    "import optuna.visualization as vis\n",
    "from sklearn.pipeline import Pipeline\n",
    "from sklearn.preprocessing import PolynomialFeatures, StandardScaler\n",
    "from sklearn.ensemble import RandomForestClassifier, StackingClassifier\n",
    "from sklearn.linear_model import LogisticRegression\n",
    "from sklearn.model_selection import StratifiedKFold, train_test_split, cross_val_score\n",
    "from sklearn.metrics import brier_score_loss, roc_auc_score\n",
    "from sklearn.calibration import calibration_curve, CalibratedClassifierCV\n",
    "\n",
    "import warnings\n",
    "warnings.filterwarnings(\"ignore\")"
   ]
  },
  {
   "cell_type": "code",
   "execution_count": 2,
   "metadata": {},
   "outputs": [],
   "source": [
    "train = pd.read_csv(\"train_2.csv\")\n",
    "test = pd.read_csv(\"test_2.csv\")"
   ]
  },
  {
   "cell_type": "code",
   "execution_count": 3,
   "metadata": {},
   "outputs": [],
   "source": [
    "X = train.drop('smoking', axis=1)\n",
    "y = train['smoking']\n",
    "\n",
    "SEED = 1\n",
    "\n",
    "skf = StratifiedKFold(n_splits=5, shuffle=True, random_state=SEED)"
   ]
  },
  {
   "cell_type": "markdown",
   "metadata": {},
   "source": [
    "## Feature Selection"
   ]
  },
  {
   "cell_type": "markdown",
   "metadata": {},
   "source": [
    "Я решил создать стэк RandomForestClassifier и LogisticRegression. FS буду делать именно под эти модели"
   ]
  },
  {
   "cell_type": "code",
   "execution_count": 4,
   "metadata": {},
   "outputs": [],
   "source": [
    "rf_pipeline = Pipeline([\n",
    "    ('rf', RandomForestClassifier(random_state=SEED))\n",
    "])\n",
    "\n",
    "lr_pipeline = Pipeline([\n",
    "    ('scaler', StandardScaler()),\n",
    "    ('lr', LogisticRegression(random_state=SEED))\n",
    "])\n",
    "\n",
    "stacking_model = StackingClassifier(\n",
    "    estimators=[\n",
    "        ('rf_pipeline', rf_pipeline),\n",
    "        ('lr_pipeline', lr_pipeline)\n",
    "    ],\n",
    "    final_estimator=LogisticRegression(random_state=SEED),\n",
    "    cv=skf\n",
    ")"
   ]
  },
  {
   "cell_type": "code",
   "execution_count": 5,
   "metadata": {},
   "outputs": [
    {
     "data": {
      "text/plain": [
       "0.88155"
      ]
     },
     "execution_count": 5,
     "metadata": {},
     "output_type": "execute_result"
    }
   ],
   "source": [
    "X_train, X_test, y_train, y_test = train_test_split(X, y, test_size=0.2, stratify=y, random_state=SEED)\n",
    "\n",
    "cvs = cross_val_score(stacking_model, X_train, y_train, cv=skf, n_jobs=-1, scoring='roc_auc').mean()\n",
    "\n",
    "np.round(cvs, 5)"
   ]
  },
  {
   "cell_type": "code",
   "execution_count": 6,
   "metadata": {},
   "outputs": [
    {
     "data": {
      "text/html": [
       "<style>#sk-container-id-1 {\n",
       "  /* Definition of color scheme common for light and dark mode */\n",
       "  --sklearn-color-text: black;\n",
       "  --sklearn-color-line: gray;\n",
       "  /* Definition of color scheme for unfitted estimators */\n",
       "  --sklearn-color-unfitted-level-0: #fff5e6;\n",
       "  --sklearn-color-unfitted-level-1: #f6e4d2;\n",
       "  --sklearn-color-unfitted-level-2: #ffe0b3;\n",
       "  --sklearn-color-unfitted-level-3: chocolate;\n",
       "  /* Definition of color scheme for fitted estimators */\n",
       "  --sklearn-color-fitted-level-0: #f0f8ff;\n",
       "  --sklearn-color-fitted-level-1: #d4ebff;\n",
       "  --sklearn-color-fitted-level-2: #b3dbfd;\n",
       "  --sklearn-color-fitted-level-3: cornflowerblue;\n",
       "\n",
       "  /* Specific color for light theme */\n",
       "  --sklearn-color-text-on-default-background: var(--sg-text-color, var(--theme-code-foreground, var(--jp-content-font-color1, black)));\n",
       "  --sklearn-color-background: var(--sg-background-color, var(--theme-background, var(--jp-layout-color0, white)));\n",
       "  --sklearn-color-border-box: var(--sg-text-color, var(--theme-code-foreground, var(--jp-content-font-color1, black)));\n",
       "  --sklearn-color-icon: #696969;\n",
       "\n",
       "  @media (prefers-color-scheme: dark) {\n",
       "    /* Redefinition of color scheme for dark theme */\n",
       "    --sklearn-color-text-on-default-background: var(--sg-text-color, var(--theme-code-foreground, var(--jp-content-font-color1, white)));\n",
       "    --sklearn-color-background: var(--sg-background-color, var(--theme-background, var(--jp-layout-color0, #111)));\n",
       "    --sklearn-color-border-box: var(--sg-text-color, var(--theme-code-foreground, var(--jp-content-font-color1, white)));\n",
       "    --sklearn-color-icon: #878787;\n",
       "  }\n",
       "}\n",
       "\n",
       "#sk-container-id-1 {\n",
       "  color: var(--sklearn-color-text);\n",
       "}\n",
       "\n",
       "#sk-container-id-1 pre {\n",
       "  padding: 0;\n",
       "}\n",
       "\n",
       "#sk-container-id-1 input.sk-hidden--visually {\n",
       "  border: 0;\n",
       "  clip: rect(1px 1px 1px 1px);\n",
       "  clip: rect(1px, 1px, 1px, 1px);\n",
       "  height: 1px;\n",
       "  margin: -1px;\n",
       "  overflow: hidden;\n",
       "  padding: 0;\n",
       "  position: absolute;\n",
       "  width: 1px;\n",
       "}\n",
       "\n",
       "#sk-container-id-1 div.sk-dashed-wrapped {\n",
       "  border: 1px dashed var(--sklearn-color-line);\n",
       "  margin: 0 0.4em 0.5em 0.4em;\n",
       "  box-sizing: border-box;\n",
       "  padding-bottom: 0.4em;\n",
       "  background-color: var(--sklearn-color-background);\n",
       "}\n",
       "\n",
       "#sk-container-id-1 div.sk-container {\n",
       "  /* jupyter's `normalize.less` sets `[hidden] { display: none; }`\n",
       "     but bootstrap.min.css set `[hidden] { display: none !important; }`\n",
       "     so we also need the `!important` here to be able to override the\n",
       "     default hidden behavior on the sphinx rendered scikit-learn.org.\n",
       "     See: https://github.com/scikit-learn/scikit-learn/issues/21755 */\n",
       "  display: inline-block !important;\n",
       "  position: relative;\n",
       "}\n",
       "\n",
       "#sk-container-id-1 div.sk-text-repr-fallback {\n",
       "  display: none;\n",
       "}\n",
       "\n",
       "div.sk-parallel-item,\n",
       "div.sk-serial,\n",
       "div.sk-item {\n",
       "  /* draw centered vertical line to link estimators */\n",
       "  background-image: linear-gradient(var(--sklearn-color-text-on-default-background), var(--sklearn-color-text-on-default-background));\n",
       "  background-size: 2px 100%;\n",
       "  background-repeat: no-repeat;\n",
       "  background-position: center center;\n",
       "}\n",
       "\n",
       "/* Parallel-specific style estimator block */\n",
       "\n",
       "#sk-container-id-1 div.sk-parallel-item::after {\n",
       "  content: \"\";\n",
       "  width: 100%;\n",
       "  border-bottom: 2px solid var(--sklearn-color-text-on-default-background);\n",
       "  flex-grow: 1;\n",
       "}\n",
       "\n",
       "#sk-container-id-1 div.sk-parallel {\n",
       "  display: flex;\n",
       "  align-items: stretch;\n",
       "  justify-content: center;\n",
       "  background-color: var(--sklearn-color-background);\n",
       "  position: relative;\n",
       "}\n",
       "\n",
       "#sk-container-id-1 div.sk-parallel-item {\n",
       "  display: flex;\n",
       "  flex-direction: column;\n",
       "}\n",
       "\n",
       "#sk-container-id-1 div.sk-parallel-item:first-child::after {\n",
       "  align-self: flex-end;\n",
       "  width: 50%;\n",
       "}\n",
       "\n",
       "#sk-container-id-1 div.sk-parallel-item:last-child::after {\n",
       "  align-self: flex-start;\n",
       "  width: 50%;\n",
       "}\n",
       "\n",
       "#sk-container-id-1 div.sk-parallel-item:only-child::after {\n",
       "  width: 0;\n",
       "}\n",
       "\n",
       "/* Serial-specific style estimator block */\n",
       "\n",
       "#sk-container-id-1 div.sk-serial {\n",
       "  display: flex;\n",
       "  flex-direction: column;\n",
       "  align-items: center;\n",
       "  background-color: var(--sklearn-color-background);\n",
       "  padding-right: 1em;\n",
       "  padding-left: 1em;\n",
       "}\n",
       "\n",
       "\n",
       "/* Toggleable style: style used for estimator/Pipeline/ColumnTransformer box that is\n",
       "clickable and can be expanded/collapsed.\n",
       "- Pipeline and ColumnTransformer use this feature and define the default style\n",
       "- Estimators will overwrite some part of the style using the `sk-estimator` class\n",
       "*/\n",
       "\n",
       "/* Pipeline and ColumnTransformer style (default) */\n",
       "\n",
       "#sk-container-id-1 div.sk-toggleable {\n",
       "  /* Default theme specific background. It is overwritten whether we have a\n",
       "  specific estimator or a Pipeline/ColumnTransformer */\n",
       "  background-color: var(--sklearn-color-background);\n",
       "}\n",
       "\n",
       "/* Toggleable label */\n",
       "#sk-container-id-1 label.sk-toggleable__label {\n",
       "  cursor: pointer;\n",
       "  display: block;\n",
       "  width: 100%;\n",
       "  margin-bottom: 0;\n",
       "  padding: 0.5em;\n",
       "  box-sizing: border-box;\n",
       "  text-align: center;\n",
       "}\n",
       "\n",
       "#sk-container-id-1 label.sk-toggleable__label-arrow:before {\n",
       "  /* Arrow on the left of the label */\n",
       "  content: \"▸\";\n",
       "  float: left;\n",
       "  margin-right: 0.25em;\n",
       "  color: var(--sklearn-color-icon);\n",
       "}\n",
       "\n",
       "#sk-container-id-1 label.sk-toggleable__label-arrow:hover:before {\n",
       "  color: var(--sklearn-color-text);\n",
       "}\n",
       "\n",
       "/* Toggleable content - dropdown */\n",
       "\n",
       "#sk-container-id-1 div.sk-toggleable__content {\n",
       "  max-height: 0;\n",
       "  max-width: 0;\n",
       "  overflow: hidden;\n",
       "  text-align: left;\n",
       "  /* unfitted */\n",
       "  background-color: var(--sklearn-color-unfitted-level-0);\n",
       "}\n",
       "\n",
       "#sk-container-id-1 div.sk-toggleable__content.fitted {\n",
       "  /* fitted */\n",
       "  background-color: var(--sklearn-color-fitted-level-0);\n",
       "}\n",
       "\n",
       "#sk-container-id-1 div.sk-toggleable__content pre {\n",
       "  margin: 0.2em;\n",
       "  border-radius: 0.25em;\n",
       "  color: var(--sklearn-color-text);\n",
       "  /* unfitted */\n",
       "  background-color: var(--sklearn-color-unfitted-level-0);\n",
       "}\n",
       "\n",
       "#sk-container-id-1 div.sk-toggleable__content.fitted pre {\n",
       "  /* unfitted */\n",
       "  background-color: var(--sklearn-color-fitted-level-0);\n",
       "}\n",
       "\n",
       "#sk-container-id-1 input.sk-toggleable__control:checked~div.sk-toggleable__content {\n",
       "  /* Expand drop-down */\n",
       "  max-height: 200px;\n",
       "  max-width: 100%;\n",
       "  overflow: auto;\n",
       "}\n",
       "\n",
       "#sk-container-id-1 input.sk-toggleable__control:checked~label.sk-toggleable__label-arrow:before {\n",
       "  content: \"▾\";\n",
       "}\n",
       "\n",
       "/* Pipeline/ColumnTransformer-specific style */\n",
       "\n",
       "#sk-container-id-1 div.sk-label input.sk-toggleable__control:checked~label.sk-toggleable__label {\n",
       "  color: var(--sklearn-color-text);\n",
       "  background-color: var(--sklearn-color-unfitted-level-2);\n",
       "}\n",
       "\n",
       "#sk-container-id-1 div.sk-label.fitted input.sk-toggleable__control:checked~label.sk-toggleable__label {\n",
       "  background-color: var(--sklearn-color-fitted-level-2);\n",
       "}\n",
       "\n",
       "/* Estimator-specific style */\n",
       "\n",
       "/* Colorize estimator box */\n",
       "#sk-container-id-1 div.sk-estimator input.sk-toggleable__control:checked~label.sk-toggleable__label {\n",
       "  /* unfitted */\n",
       "  background-color: var(--sklearn-color-unfitted-level-2);\n",
       "}\n",
       "\n",
       "#sk-container-id-1 div.sk-estimator.fitted input.sk-toggleable__control:checked~label.sk-toggleable__label {\n",
       "  /* fitted */\n",
       "  background-color: var(--sklearn-color-fitted-level-2);\n",
       "}\n",
       "\n",
       "#sk-container-id-1 div.sk-label label.sk-toggleable__label,\n",
       "#sk-container-id-1 div.sk-label label {\n",
       "  /* The background is the default theme color */\n",
       "  color: var(--sklearn-color-text-on-default-background);\n",
       "}\n",
       "\n",
       "/* On hover, darken the color of the background */\n",
       "#sk-container-id-1 div.sk-label:hover label.sk-toggleable__label {\n",
       "  color: var(--sklearn-color-text);\n",
       "  background-color: var(--sklearn-color-unfitted-level-2);\n",
       "}\n",
       "\n",
       "/* Label box, darken color on hover, fitted */\n",
       "#sk-container-id-1 div.sk-label.fitted:hover label.sk-toggleable__label.fitted {\n",
       "  color: var(--sklearn-color-text);\n",
       "  background-color: var(--sklearn-color-fitted-level-2);\n",
       "}\n",
       "\n",
       "/* Estimator label */\n",
       "\n",
       "#sk-container-id-1 div.sk-label label {\n",
       "  font-family: monospace;\n",
       "  font-weight: bold;\n",
       "  display: inline-block;\n",
       "  line-height: 1.2em;\n",
       "}\n",
       "\n",
       "#sk-container-id-1 div.sk-label-container {\n",
       "  text-align: center;\n",
       "}\n",
       "\n",
       "/* Estimator-specific */\n",
       "#sk-container-id-1 div.sk-estimator {\n",
       "  font-family: monospace;\n",
       "  border: 1px dotted var(--sklearn-color-border-box);\n",
       "  border-radius: 0.25em;\n",
       "  box-sizing: border-box;\n",
       "  margin-bottom: 0.5em;\n",
       "  /* unfitted */\n",
       "  background-color: var(--sklearn-color-unfitted-level-0);\n",
       "}\n",
       "\n",
       "#sk-container-id-1 div.sk-estimator.fitted {\n",
       "  /* fitted */\n",
       "  background-color: var(--sklearn-color-fitted-level-0);\n",
       "}\n",
       "\n",
       "/* on hover */\n",
       "#sk-container-id-1 div.sk-estimator:hover {\n",
       "  /* unfitted */\n",
       "  background-color: var(--sklearn-color-unfitted-level-2);\n",
       "}\n",
       "\n",
       "#sk-container-id-1 div.sk-estimator.fitted:hover {\n",
       "  /* fitted */\n",
       "  background-color: var(--sklearn-color-fitted-level-2);\n",
       "}\n",
       "\n",
       "/* Specification for estimator info (e.g. \"i\" and \"?\") */\n",
       "\n",
       "/* Common style for \"i\" and \"?\" */\n",
       "\n",
       ".sk-estimator-doc-link,\n",
       "a:link.sk-estimator-doc-link,\n",
       "a:visited.sk-estimator-doc-link {\n",
       "  float: right;\n",
       "  font-size: smaller;\n",
       "  line-height: 1em;\n",
       "  font-family: monospace;\n",
       "  background-color: var(--sklearn-color-background);\n",
       "  border-radius: 1em;\n",
       "  height: 1em;\n",
       "  width: 1em;\n",
       "  text-decoration: none !important;\n",
       "  margin-left: 1ex;\n",
       "  /* unfitted */\n",
       "  border: var(--sklearn-color-unfitted-level-1) 1pt solid;\n",
       "  color: var(--sklearn-color-unfitted-level-1);\n",
       "}\n",
       "\n",
       ".sk-estimator-doc-link.fitted,\n",
       "a:link.sk-estimator-doc-link.fitted,\n",
       "a:visited.sk-estimator-doc-link.fitted {\n",
       "  /* fitted */\n",
       "  border: var(--sklearn-color-fitted-level-1) 1pt solid;\n",
       "  color: var(--sklearn-color-fitted-level-1);\n",
       "}\n",
       "\n",
       "/* On hover */\n",
       "div.sk-estimator:hover .sk-estimator-doc-link:hover,\n",
       ".sk-estimator-doc-link:hover,\n",
       "div.sk-label-container:hover .sk-estimator-doc-link:hover,\n",
       ".sk-estimator-doc-link:hover {\n",
       "  /* unfitted */\n",
       "  background-color: var(--sklearn-color-unfitted-level-3);\n",
       "  color: var(--sklearn-color-background);\n",
       "  text-decoration: none;\n",
       "}\n",
       "\n",
       "div.sk-estimator.fitted:hover .sk-estimator-doc-link.fitted:hover,\n",
       ".sk-estimator-doc-link.fitted:hover,\n",
       "div.sk-label-container:hover .sk-estimator-doc-link.fitted:hover,\n",
       ".sk-estimator-doc-link.fitted:hover {\n",
       "  /* fitted */\n",
       "  background-color: var(--sklearn-color-fitted-level-3);\n",
       "  color: var(--sklearn-color-background);\n",
       "  text-decoration: none;\n",
       "}\n",
       "\n",
       "/* Span, style for the box shown on hovering the info icon */\n",
       ".sk-estimator-doc-link span {\n",
       "  display: none;\n",
       "  z-index: 9999;\n",
       "  position: relative;\n",
       "  font-weight: normal;\n",
       "  right: .2ex;\n",
       "  padding: .5ex;\n",
       "  margin: .5ex;\n",
       "  width: min-content;\n",
       "  min-width: 20ex;\n",
       "  max-width: 50ex;\n",
       "  color: var(--sklearn-color-text);\n",
       "  box-shadow: 2pt 2pt 4pt #999;\n",
       "  /* unfitted */\n",
       "  background: var(--sklearn-color-unfitted-level-0);\n",
       "  border: .5pt solid var(--sklearn-color-unfitted-level-3);\n",
       "}\n",
       "\n",
       ".sk-estimator-doc-link.fitted span {\n",
       "  /* fitted */\n",
       "  background: var(--sklearn-color-fitted-level-0);\n",
       "  border: var(--sklearn-color-fitted-level-3);\n",
       "}\n",
       "\n",
       ".sk-estimator-doc-link:hover span {\n",
       "  display: block;\n",
       "}\n",
       "\n",
       "/* \"?\"-specific style due to the `<a>` HTML tag */\n",
       "\n",
       "#sk-container-id-1 a.estimator_doc_link {\n",
       "  float: right;\n",
       "  font-size: 1rem;\n",
       "  line-height: 1em;\n",
       "  font-family: monospace;\n",
       "  background-color: var(--sklearn-color-background);\n",
       "  border-radius: 1rem;\n",
       "  height: 1rem;\n",
       "  width: 1rem;\n",
       "  text-decoration: none;\n",
       "  /* unfitted */\n",
       "  color: var(--sklearn-color-unfitted-level-1);\n",
       "  border: var(--sklearn-color-unfitted-level-1) 1pt solid;\n",
       "}\n",
       "\n",
       "#sk-container-id-1 a.estimator_doc_link.fitted {\n",
       "  /* fitted */\n",
       "  border: var(--sklearn-color-fitted-level-1) 1pt solid;\n",
       "  color: var(--sklearn-color-fitted-level-1);\n",
       "}\n",
       "\n",
       "/* On hover */\n",
       "#sk-container-id-1 a.estimator_doc_link:hover {\n",
       "  /* unfitted */\n",
       "  background-color: var(--sklearn-color-unfitted-level-3);\n",
       "  color: var(--sklearn-color-background);\n",
       "  text-decoration: none;\n",
       "}\n",
       "\n",
       "#sk-container-id-1 a.estimator_doc_link.fitted:hover {\n",
       "  /* fitted */\n",
       "  background-color: var(--sklearn-color-fitted-level-3);\n",
       "}\n",
       "</style><div id=\"sk-container-id-1\" class=\"sk-top-container\"><div class=\"sk-text-repr-fallback\"><pre>StackingClassifier(cv=StratifiedKFold(n_splits=5, random_state=1, shuffle=True),\n",
       "                   estimators=[(&#x27;rf_pipeline&#x27;,\n",
       "                                Pipeline(steps=[(&#x27;rf&#x27;,\n",
       "                                                 RandomForestClassifier(random_state=1))])),\n",
       "                               (&#x27;lr_pipeline&#x27;,\n",
       "                                Pipeline(steps=[(&#x27;scaler&#x27;, StandardScaler()),\n",
       "                                                (&#x27;lr&#x27;,\n",
       "                                                 LogisticRegression(random_state=1))]))],\n",
       "                   final_estimator=LogisticRegression(random_state=1))</pre><b>In a Jupyter environment, please rerun this cell to show the HTML representation or trust the notebook. <br />On GitHub, the HTML representation is unable to render, please try loading this page with nbviewer.org.</b></div><div class=\"sk-container\" hidden><div class=\"sk-item sk-dashed-wrapped\"><div class=\"sk-label-container\"><div class=\"sk-label fitted sk-toggleable\"><input class=\"sk-toggleable__control sk-hidden--visually\" id=\"sk-estimator-id-1\" type=\"checkbox\" ><label for=\"sk-estimator-id-1\" class=\"sk-toggleable__label fitted sk-toggleable__label-arrow fitted\">&nbsp;&nbsp;StackingClassifier<a class=\"sk-estimator-doc-link fitted\" rel=\"noreferrer\" target=\"_blank\" href=\"https://scikit-learn.org/1.4/modules/generated/sklearn.ensemble.StackingClassifier.html\">?<span>Documentation for StackingClassifier</span></a><span class=\"sk-estimator-doc-link fitted\">i<span>Fitted</span></span></label><div class=\"sk-toggleable__content fitted\"><pre>StackingClassifier(cv=StratifiedKFold(n_splits=5, random_state=1, shuffle=True),\n",
       "                   estimators=[(&#x27;rf_pipeline&#x27;,\n",
       "                                Pipeline(steps=[(&#x27;rf&#x27;,\n",
       "                                                 RandomForestClassifier(random_state=1))])),\n",
       "                               (&#x27;lr_pipeline&#x27;,\n",
       "                                Pipeline(steps=[(&#x27;scaler&#x27;, StandardScaler()),\n",
       "                                                (&#x27;lr&#x27;,\n",
       "                                                 LogisticRegression(random_state=1))]))],\n",
       "                   final_estimator=LogisticRegression(random_state=1))</pre></div> </div></div><div class=\"sk-serial\"><div class=\"sk-item\"><div class=\"sk-parallel\"><div class=\"sk-parallel-item\"><div class=\"sk-item\"><div class=\"sk-label-container\"><div class=\"sk-label fitted sk-toggleable\"><label>rf_pipeline</label></div></div><div class=\"sk-serial\"><div class=\"sk-item\"><div class=\"sk-serial\"><div class=\"sk-item\"><div class=\"sk-estimator fitted sk-toggleable\"><input class=\"sk-toggleable__control sk-hidden--visually\" id=\"sk-estimator-id-2\" type=\"checkbox\" ><label for=\"sk-estimator-id-2\" class=\"sk-toggleable__label fitted sk-toggleable__label-arrow fitted\">&nbsp;RandomForestClassifier<a class=\"sk-estimator-doc-link fitted\" rel=\"noreferrer\" target=\"_blank\" href=\"https://scikit-learn.org/1.4/modules/generated/sklearn.ensemble.RandomForestClassifier.html\">?<span>Documentation for RandomForestClassifier</span></a></label><div class=\"sk-toggleable__content fitted\"><pre>RandomForestClassifier(random_state=1)</pre></div> </div></div></div></div></div></div></div><div class=\"sk-parallel-item\"><div class=\"sk-item\"><div class=\"sk-label-container\"><div class=\"sk-label fitted sk-toggleable\"><label>lr_pipeline</label></div></div><div class=\"sk-serial\"><div class=\"sk-item\"><div class=\"sk-serial\"><div class=\"sk-item\"><div class=\"sk-estimator fitted sk-toggleable\"><input class=\"sk-toggleable__control sk-hidden--visually\" id=\"sk-estimator-id-3\" type=\"checkbox\" ><label for=\"sk-estimator-id-3\" class=\"sk-toggleable__label fitted sk-toggleable__label-arrow fitted\">&nbsp;StandardScaler<a class=\"sk-estimator-doc-link fitted\" rel=\"noreferrer\" target=\"_blank\" href=\"https://scikit-learn.org/1.4/modules/generated/sklearn.preprocessing.StandardScaler.html\">?<span>Documentation for StandardScaler</span></a></label><div class=\"sk-toggleable__content fitted\"><pre>StandardScaler()</pre></div> </div></div><div class=\"sk-item\"><div class=\"sk-estimator fitted sk-toggleable\"><input class=\"sk-toggleable__control sk-hidden--visually\" id=\"sk-estimator-id-4\" type=\"checkbox\" ><label for=\"sk-estimator-id-4\" class=\"sk-toggleable__label fitted sk-toggleable__label-arrow fitted\">&nbsp;LogisticRegression<a class=\"sk-estimator-doc-link fitted\" rel=\"noreferrer\" target=\"_blank\" href=\"https://scikit-learn.org/1.4/modules/generated/sklearn.linear_model.LogisticRegression.html\">?<span>Documentation for LogisticRegression</span></a></label><div class=\"sk-toggleable__content fitted\"><pre>LogisticRegression(random_state=1)</pre></div> </div></div></div></div></div></div></div></div></div><div class=\"sk-item\"><div class=\"sk-parallel\"><div class=\"sk-parallel-item\"><div class=\"sk-item\"><div class=\"sk-label-container\"><div class=\"sk-label fitted sk-toggleable\"><label>final_estimator</label></div></div><div class=\"sk-serial\"><div class=\"sk-item\"><div class=\"sk-estimator fitted sk-toggleable\"><input class=\"sk-toggleable__control sk-hidden--visually\" id=\"sk-estimator-id-5\" type=\"checkbox\" ><label for=\"sk-estimator-id-5\" class=\"sk-toggleable__label fitted sk-toggleable__label-arrow fitted\">&nbsp;LogisticRegression<a class=\"sk-estimator-doc-link fitted\" rel=\"noreferrer\" target=\"_blank\" href=\"https://scikit-learn.org/1.4/modules/generated/sklearn.linear_model.LogisticRegression.html\">?<span>Documentation for LogisticRegression</span></a></label><div class=\"sk-toggleable__content fitted\"><pre>LogisticRegression(random_state=1)</pre></div> </div></div></div></div></div></div></div></div></div></div></div>"
      ],
      "text/plain": [
       "StackingClassifier(cv=StratifiedKFold(n_splits=5, random_state=1, shuffle=True),\n",
       "                   estimators=[('rf_pipeline',\n",
       "                                Pipeline(steps=[('rf',\n",
       "                                                 RandomForestClassifier(random_state=1))])),\n",
       "                               ('lr_pipeline',\n",
       "                                Pipeline(steps=[('scaler', StandardScaler()),\n",
       "                                                ('lr',\n",
       "                                                 LogisticRegression(random_state=1))]))],\n",
       "                   final_estimator=LogisticRegression(random_state=1))"
      ]
     },
     "execution_count": 6,
     "metadata": {},
     "output_type": "execute_result"
    }
   ],
   "source": [
    "stacking_model.fit(X_train, y_train)"
   ]
  },
  {
   "cell_type": "markdown",
   "metadata": {},
   "source": [
    "Признаки для RandomForest:"
   ]
  },
  {
   "cell_type": "code",
   "execution_count": 7,
   "metadata": {},
   "outputs": [
    {
     "name": "stdout",
     "output_type": "stream",
     "text": [
      "                    Feature  Importance\n",
      "15               hemoglobin    0.090647\n",
      "1                height(cm)    0.080955\n",
      "23           height(cm)_cat    0.073664\n",
      "12             triglyceride    0.059733\n",
      "20                      Gtp    0.051056\n",
      "35           hemoglobin_cat    0.044100\n",
      "39                  Gtp_cat    0.043682\n",
      "14                      LDL    0.034473\n",
      "2                weight(kg)    0.033486\n",
      "11              Cholesterol    0.033003\n",
      "13                      HDL    0.031763\n",
      "10      fasting blood sugar    0.030514\n",
      "19                      ALT    0.030318\n",
      "3                 waist(cm)    0.029678\n",
      "8                  systolic    0.028141\n",
      "18                      AST    0.027739\n",
      "17         serum creatinine    0.027649\n",
      "9                relaxation    0.026476\n",
      "0                       age    0.023090\n",
      "24           weight(kg)_cat    0.019923\n",
      "32         triglyceride_cat    0.017965\n",
      "5           eyesight(right)    0.016374\n",
      "36     serum creatinine_cat    0.015830\n",
      "4            eyesight(left)    0.015540\n",
      "22                  age_cat    0.013037\n",
      "33                  HDL_cat    0.012735\n",
      "38                  ALT_cat    0.011729\n",
      "37                  AST_cat    0.011422\n",
      "29           relaxation_cat    0.008968\n",
      "28             systolic_cat    0.008239\n",
      "30  fasting blood sugar_cat    0.008085\n",
      "34                  LDL_cat    0.007816\n",
      "25            waist(cm)_cat    0.007798\n",
      "27      eyesight(right)_cat    0.007458\n",
      "26       eyesight(left)_cat    0.007206\n",
      "21            dental caries    0.006258\n",
      "31          Cholesterol_cat    0.002403\n",
      "16            Urine protein    0.001046\n",
      "6             hearing(left)    0.000000\n",
      "7            hearing(right)    0.000000\n"
     ]
    }
   ],
   "source": [
    "rf_model = stacking_model.named_estimators_['rf_pipeline'].named_steps['rf']\n",
    "\n",
    "\n",
    "importances = rf_model.feature_importances_\n",
    "\n",
    "feature_importance_df = pd.DataFrame({\n",
    "    'Feature': X_train.columns,\n",
    "    'Importance': importances\n",
    "}).sort_values(by='Importance', ascending=False)\n",
    "\n",
    "print(feature_importance_df)"
   ]
  },
  {
   "cell_type": "markdown",
   "metadata": {},
   "source": [
    "Признаки для Logistic Regression:"
   ]
  },
  {
   "cell_type": "code",
   "execution_count": 8,
   "metadata": {},
   "outputs": [
    {
     "name": "stdout",
     "output_type": "stream",
     "text": [
      "                    Feature  Coefficient\n",
      "23           height(cm)_cat     0.928772\n",
      "15               hemoglobin     0.783935\n",
      "39                  Gtp_cat     0.620182\n",
      "20                      Gtp     0.272248\n",
      "12             triglyceride     0.212107\n",
      "1                height(cm)     0.209984\n",
      "21            dental caries     0.200946\n",
      "32         triglyceride_cat     0.148486\n",
      "26       eyesight(left)_cat     0.132227\n",
      "27      eyesight(right)_cat     0.125778\n",
      "36     serum creatinine_cat     0.097454\n",
      "29           relaxation_cat     0.088989\n",
      "22                  age_cat     0.080819\n",
      "0                       age     0.034325\n",
      "31          Cholesterol_cat     0.008153\n",
      "30  fasting blood sugar_cat     0.003556\n",
      "10      fasting blood sugar     0.001059\n",
      "6             hearing(left)     0.000000\n",
      "7            hearing(right)     0.000000\n",
      "14                      LDL    -0.041512\n",
      "3                 waist(cm)    -0.041918\n",
      "37                  AST_cat    -0.041931\n",
      "35           hemoglobin_cat    -0.046276\n",
      "24           weight(kg)_cat    -0.048995\n",
      "25            waist(cm)_cat    -0.049375\n",
      "28             systolic_cat    -0.049771\n",
      "11              Cholesterol    -0.054169\n",
      "33                  HDL_cat    -0.068762\n",
      "18                      AST    -0.070952\n",
      "16            Urine protein    -0.076169\n",
      "5           eyesight(right)    -0.080574\n",
      "8                  systolic    -0.085226\n",
      "9                relaxation    -0.088766\n",
      "13                      HDL    -0.103672\n",
      "38                  ALT_cat    -0.110297\n",
      "4            eyesight(left)    -0.115680\n",
      "17         serum creatinine    -0.137604\n",
      "2                weight(kg)    -0.153979\n",
      "34                  LDL_cat    -0.174482\n",
      "19                      ALT    -0.178441\n"
     ]
    }
   ],
   "source": [
    "lr_model = stacking_model.named_estimators_['lr_pipeline'].named_steps['lr']\n",
    "\n",
    "coefficients = lr_model.coef_[0]\n",
    "\n",
    "coef_df = pd.DataFrame({\n",
    "    'Feature': X_train.columns,\n",
    "    'Coefficient': coefficients\n",
    "}).sort_values(by='Coefficient', ascending=False)\n",
    "\n",
    "print(coef_df)"
   ]
  },
  {
   "cell_type": "markdown",
   "metadata": {},
   "source": [
    "Посмотрел на верхние результаты и, после некоторых экспериментов, выбрал вот эти признаки:"
   ]
  },
  {
   "cell_type": "code",
   "execution_count": 9,
   "metadata": {},
   "outputs": [],
   "source": [
    "columns = [\n",
    "    'age',\n",
    "    'age_cat',\n",
    "    'height(cm)',\n",
    "    'height(cm)_cat',\n",
    "    'weight(kg)_cat',\n",
    "    'waist(cm)',\n",
    "    'waist(cm)_cat',\n",
    "    'eyesight(right)',\n",
    "    'eyesight(right)_cat',\n",
    "    'systolic',\n",
    "    'fasting blood sugar_cat',\n",
    "    'Cholesterol',\n",
    "    'triglyceride',\n",
    "    'LDL',\n",
    "    'hemoglobin',\n",
    "    'hemoglobin_cat',\n",
    "    'serum creatinine',\n",
    "    'serum creatinine_cat',\n",
    "    'AST',\n",
    "    'ALT',\n",
    "    'Gtp',\n",
    "    'dental caries'\n",
    "]"
   ]
  },
  {
   "cell_type": "code",
   "execution_count": 10,
   "metadata": {},
   "outputs": [],
   "source": [
    "train[columns + ['smoking']].to_csv('train_3.csv', index=False)\n",
    "test[columns].to_csv('test_3.csv', index=False)"
   ]
  },
  {
   "cell_type": "markdown",
   "metadata": {},
   "source": [
    "## HPO / Optuna"
   ]
  },
  {
   "cell_type": "code",
   "execution_count": 11,
   "metadata": {},
   "outputs": [
    {
     "name": "stderr",
     "output_type": "stream",
     "text": [
      "[I 2024-10-30 20:16:42,274] A new study created in RDB with name: My study\n",
      "[I 2024-10-30 20:18:48,381] Trial 0 finished with value: 0.8772490780202609 and parameters: {'rf_max_depth': 20, 'rf_min_samples_split': 4, 'rf_min_samples_leaf': 9, 'rf_max_features': 11, 'lr_C': 0.03233916438659821, 'lr_C_2': 0.00638317399395176}. Best is trial 0 with value: 0.8772490780202609.\n",
      "[I 2024-10-30 20:20:19,419] Trial 1 finished with value: 0.8683941941746534 and parameters: {'rf_max_depth': 8, 'rf_min_samples_split': 11, 'rf_min_samples_leaf': 4, 'rf_max_features': 4, 'lr_C': 0.10985862236957175, 'lr_C_2': 0.002145432072750459}. Best is trial 0 with value: 0.8772490780202609.\n",
      "[I 2024-10-30 20:21:13,551] Trial 2 finished with value: 0.8801139701387501 and parameters: {'rf_max_depth': 9, 'rf_min_samples_split': 8, 'rf_min_samples_leaf': 12, 'rf_max_features': 19, 'lr_C': 0.00015402459051861982, 'lr_C_2': 1.786891824102578}. Best is trial 2 with value: 0.8801139701387501.\n",
      "[I 2024-10-30 20:22:13,937] Trial 3 finished with value: 0.8400947351182707 and parameters: {'rf_max_depth': 9, 'rf_min_samples_split': 11, 'rf_min_samples_leaf': 10, 'rf_max_features': 7, 'lr_C': 7.410531789576545, 'lr_C_2': 0.00019207072089757403}. Best is trial 2 with value: 0.8801139701387501.\n",
      "[I 2024-10-30 20:23:22,096] Trial 4 finished with value: 0.8826581700964065 and parameters: {'rf_max_depth': 11, 'rf_min_samples_split': 10, 'rf_min_samples_leaf': 6, 'rf_max_features': 19, 'lr_C': 0.0008839169944228665, 'lr_C_2': 0.32426494572349795}. Best is trial 4 with value: 0.8826581700964065.\n",
      "[I 2024-10-30 20:24:27,987] Trial 5 finished with value: 0.8784382775773519 and parameters: {'rf_max_depth': 11, 'rf_min_samples_split': 9, 'rf_min_samples_leaf': 3, 'rf_max_features': 7, 'lr_C': 0.028433458821129354, 'lr_C_2': 0.008584380588041614}. Best is trial 4 with value: 0.8826581700964065.\n",
      "[I 2024-10-30 20:25:02,620] Trial 6 finished with value: 0.8794142555113895 and parameters: {'rf_max_depth': 12, 'rf_min_samples_split': 15, 'rf_min_samples_leaf': 10, 'rf_max_features': 5, 'lr_C': 0.00014663511856422294, 'lr_C_2': 0.001604379903669292}. Best is trial 4 with value: 0.8826581700964065.\n",
      "[I 2024-10-30 20:25:39,136] Trial 7 finished with value: 0.8755269851588334 and parameters: {'rf_max_depth': 6, 'rf_min_samples_split': 6, 'rf_min_samples_leaf': 5, 'rf_max_features': 10, 'lr_C': 0.0002006237101380625, 'lr_C_2': 0.0009206860083933051}. Best is trial 4 with value: 0.8826581700964065.\n",
      "[I 2024-10-30 20:26:46,020] Trial 8 finished with value: 0.8496833732868259 and parameters: {'rf_max_depth': 17, 'rf_min_samples_split': 4, 'rf_min_samples_leaf': 12, 'rf_max_features': 8, 'lr_C': 1.5194291167821097, 'lr_C_2': 0.0016444899938526812}. Best is trial 4 with value: 0.8826581700964065.\n",
      "[I 2024-10-30 20:27:29,444] Trial 9 finished with value: 0.8770461397162972 and parameters: {'rf_max_depth': 5, 'rf_min_samples_split': 12, 'rf_min_samples_leaf': 3, 'rf_max_features': 14, 'lr_C': 0.0007511900808456997, 'lr_C_2': 0.07525232535979688}. Best is trial 4 with value: 0.8826581700964065.\n",
      "[I 2024-10-30 20:28:44,554] Trial 10 finished with value: 0.8834451271097683 and parameters: {'rf_max_depth': 15, 'rf_min_samples_split': 2, 'rf_min_samples_leaf': 15, 'rf_max_features': 20, 'lr_C': 0.0032524707810339917, 'lr_C_2': 9.037641850664896}. Best is trial 10 with value: 0.8834451271097683.\n",
      "[I 2024-10-30 20:30:14,293] Trial 11 finished with value: 0.8835038285849787 and parameters: {'rf_max_depth': 16, 'rf_min_samples_split': 3, 'rf_min_samples_leaf': 6, 'rf_max_features': 20, 'lr_C': 0.003472832215240881, 'lr_C_2': 8.952934543306995}. Best is trial 11 with value: 0.8835038285849787.\n",
      "[I 2024-10-30 20:31:25,067] Trial 12 finished with value: 0.8834853630971728 and parameters: {'rf_max_depth': 16, 'rf_min_samples_split': 2, 'rf_min_samples_leaf': 15, 'rf_max_features': 15, 'lr_C': 0.004473840691715376, 'lr_C_2': 9.939415977695182}. Best is trial 11 with value: 0.8835038285849787.\n",
      "[I 2024-10-30 20:32:55,656] Trial 13 finished with value: 0.8831276545529488 and parameters: {'rf_max_depth': 16, 'rf_min_samples_split': 2, 'rf_min_samples_leaf': 1, 'rf_max_features': 15, 'lr_C': 0.006364228641100083, 'lr_C_2': 8.24274296418534}. Best is trial 11 with value: 0.8835038285849787.\n",
      "[I 2024-10-30 20:34:11,346] Trial 14 finished with value: 0.8825369840821928 and parameters: {'rf_max_depth': 19, 'rf_min_samples_split': 5, 'rf_min_samples_leaf': 15, 'rf_max_features': 16, 'lr_C': 0.005765402466346573, 'lr_C_2': 0.6816337299585145}. Best is trial 11 with value: 0.8835038285849787.\n",
      "[I 2024-10-30 20:35:35,911] Trial 15 finished with value: 0.8803071543303937 and parameters: {'rf_max_depth': 14, 'rf_min_samples_split': 7, 'rf_min_samples_leaf': 7, 'rf_max_features': 16, 'lr_C': 0.19341413009883804, 'lr_C_2': 2.1057996614653223}. Best is trial 11 with value: 0.8835038285849787.\n",
      "[I 2024-10-30 20:36:36,111] Trial 16 finished with value: 0.8818600031326209 and parameters: {'rf_max_depth': 18, 'rf_min_samples_split': 2, 'rf_min_samples_leaf': 13, 'rf_max_features': 13, 'lr_C': 0.0018499031129273341, 'lr_C_2': 0.10402778546497515}. Best is trial 11 with value: 0.8835038285849787.\n",
      "[I 2024-10-30 20:38:00,049] Trial 17 finished with value: 0.8829150174201668 and parameters: {'rf_max_depth': 14, 'rf_min_samples_split': 4, 'rf_min_samples_leaf': 8, 'rf_max_features': 17, 'lr_C': 0.022399673167691675, 'lr_C_2': 2.0592401250281855}. Best is trial 11 with value: 0.8835038285849787.\n",
      "[I 2024-10-30 20:39:42,288] Trial 18 finished with value: 0.8790296980143861 and parameters: {'rf_max_depth': 17, 'rf_min_samples_split': 3, 'rf_min_samples_leaf': 1, 'rf_max_features': 18, 'lr_C': 0.1914721783756873, 'lr_C_2': 0.34579543353727704}. Best is trial 11 with value: 0.8835038285849787.\n",
      "[I 2024-10-30 20:40:56,678] Trial 19 finished with value: 0.8840149574624796 and parameters: {'rf_max_depth': 15, 'rf_min_samples_split': 6, 'rf_min_samples_leaf': 7, 'rf_max_features': 12, 'lr_C': 0.012015067911817666, 'lr_C_2': 8.693645135495606}. Best is trial 19 with value: 0.8840149574624796.\n",
      "[I 2024-10-30 20:42:12,666] Trial 20 finished with value: 0.871642678328169 and parameters: {'rf_max_depth': 13, 'rf_min_samples_split': 6, 'rf_min_samples_leaf': 7, 'rf_max_features': 12, 'lr_C': 0.7835273848458016, 'lr_C_2': 0.04724701856946218}. Best is trial 19 with value: 0.8840149574624796.\n",
      "[I 2024-10-30 20:43:24,697] Trial 21 finished with value: 0.8826009591941013 and parameters: {'rf_max_depth': 16, 'rf_min_samples_split': 5, 'rf_min_samples_leaf': 6, 'rf_max_features': 10, 'lr_C': 0.011430543809638271, 'lr_C_2': 4.076593122052667}. Best is trial 19 with value: 0.8840149574624796.\n",
      "[I 2024-10-30 20:44:26,374] Trial 22 finished with value: 0.8831577958616494 and parameters: {'rf_max_depth': 15, 'rf_min_samples_split': 3, 'rf_min_samples_leaf': 9, 'rf_max_features': 14, 'lr_C': 0.0009931412643340222, 'lr_C_2': 0.9352856499400928}. Best is trial 19 with value: 0.8840149574624796.\n",
      "[I 2024-10-30 20:45:43,368] Trial 23 finished with value: 0.8837567205703873 and parameters: {'rf_max_depth': 18, 'rf_min_samples_split': 7, 'rf_min_samples_leaf': 5, 'rf_max_features': 12, 'lr_C': 0.012552672616324291, 'lr_C_2': 8.867345873015726}. Best is trial 19 with value: 0.8840149574624796.\n",
      "[I 2024-10-30 20:47:03,282] Trial 24 finished with value: 0.8829948815849672 and parameters: {'rf_max_depth': 20, 'rf_min_samples_split': 8, 'rf_min_samples_leaf': 5, 'rf_max_features': 12, 'lr_C': 0.08221036676884505, 'lr_C_2': 3.7913148234486824}. Best is trial 19 with value: 0.8840149574624796.\n",
      "[I 2024-10-30 20:48:15,725] Trial 25 finished with value: 0.8838452844929641 and parameters: {'rf_max_depth': 18, 'rf_min_samples_split': 7, 'rf_min_samples_leaf': 3, 'rf_max_features': 9, 'lr_C': 0.0135813316935326, 'lr_C_2': 0.2000599326046243}. Best is trial 19 with value: 0.8840149574624796.\n",
      "[I 2024-10-30 20:49:29,321] Trial 26 finished with value: 0.8838657108522116 and parameters: {'rf_max_depth': 18, 'rf_min_samples_split': 7, 'rf_min_samples_leaf': 3, 'rf_max_features': 9, 'lr_C': 0.012877870889593565, 'lr_C_2': 0.2492189156032735}. Best is trial 19 with value: 0.8840149574624796.\n",
      "[I 2024-10-30 20:50:45,125] Trial 27 finished with value: 0.8771823118152816 and parameters: {'rf_max_depth': 18, 'rf_min_samples_split': 9, 'rf_min_samples_leaf': 2, 'rf_max_features': 9, 'lr_C': 0.05256558171687824, 'lr_C_2': 0.018627703415519743}. Best is trial 19 with value: 0.8840149574624796.\n",
      "[I 2024-10-30 20:51:53,161] Trial 28 finished with value: 0.8835008692384994 and parameters: {'rf_max_depth': 19, 'rf_min_samples_split': 7, 'rf_min_samples_leaf': 3, 'rf_max_features': 6, 'lr_C': 0.013919356891856907, 'lr_C_2': 0.2071498214356558}. Best is trial 19 with value: 0.8840149574624796.\n",
      "[I 2024-10-30 20:53:22,726] Trial 29 finished with value: 0.8694948669178624 and parameters: {'rf_max_depth': 20, 'rf_min_samples_split': 6, 'rf_min_samples_leaf': 4, 'rf_max_features': 10, 'lr_C': 0.44214319606228986, 'lr_C_2': 0.02501980531726049}. Best is trial 19 with value: 0.8840149574624796.\n",
      "[I 2024-10-30 20:54:33,102] Trial 30 finished with value: 0.8808256861292786 and parameters: {'rf_max_depth': 19, 'rf_min_samples_split': 13, 'rf_min_samples_leaf': 2, 'rf_max_features': 8, 'lr_C': 0.03888096500877695, 'lr_C_2': 0.11915454488292856}. Best is trial 19 with value: 0.8840149574624796.\n",
      "[I 2024-10-30 20:55:47,302] Trial 31 finished with value: 0.8838375314223006 and parameters: {'rf_max_depth': 17, 'rf_min_samples_split': 7, 'rf_min_samples_leaf': 4, 'rf_max_features': 11, 'lr_C': 0.011391814868828632, 'lr_C_2': 0.7805541022077399}. Best is trial 19 with value: 0.8840149574624796.\n",
      "[I 2024-10-30 20:57:01,136] Trial 32 finished with value: 0.8838326112043798 and parameters: {'rf_max_depth': 17, 'rf_min_samples_split': 8, 'rf_min_samples_leaf': 4, 'rf_max_features': 11, 'lr_C': 0.00979687955340798, 'lr_C_2': 0.5713353739595677}. Best is trial 19 with value: 0.8840149574624796.\n",
      "[I 2024-10-30 20:58:01,872] Trial 33 finished with value: 0.8826194631716942 and parameters: {'rf_max_depth': 15, 'rf_min_samples_split': 5, 'rf_min_samples_leaf': 2, 'rf_max_features': 9, 'lr_C': 0.0019472247301903826, 'lr_C_2': 0.19930357242690008}. Best is trial 19 with value: 0.8840149574624796.\n",
      "[I 2024-10-30 20:59:19,606] Trial 34 finished with value: 0.8808027197044779 and parameters: {'rf_max_depth': 18, 'rf_min_samples_split': 7, 'rf_min_samples_leaf': 3, 'rf_max_features': 11, 'lr_C': 0.06648574408030038, 'lr_C_2': 0.855474795603673}. Best is trial 19 with value: 0.8840149574624796.\n",
      "[I 2024-10-30 21:00:27,690] Trial 35 finished with value: 0.8839872253251071 and parameters: {'rf_max_depth': 14, 'rf_min_samples_split': 10, 'rf_min_samples_leaf': 4, 'rf_max_features': 9, 'lr_C': 0.01745986781581074, 'lr_C_2': 1.215370484267291}. Best is trial 19 with value: 0.8840149574624796.\n",
      "[I 2024-10-30 21:01:22,682] Trial 36 finished with value: 0.8787139363086781 and parameters: {'rf_max_depth': 13, 'rf_min_samples_split': 10, 'rf_min_samples_leaf': 8, 'rf_max_features': 4, 'lr_C': 0.023950969558457356, 'lr_C_2': 1.6797592548399922}. Best is trial 19 with value: 0.8840149574624796.\n",
      "[I 2024-10-30 21:02:24,207] Trial 37 finished with value: 0.8806033595400381 and parameters: {'rf_max_depth': 12, 'rf_min_samples_split': 11, 'rf_min_samples_leaf': 7, 'rf_max_features': 7, 'lr_C': 0.1291788454661725, 'lr_C_2': 0.35251498204608916}. Best is trial 19 with value: 0.8840149574624796.\n",
      "[I 2024-10-30 21:03:27,824] Trial 38 finished with value: 0.883408428780591 and parameters: {'rf_max_depth': 10, 'rf_min_samples_split': 10, 'rf_min_samples_leaf': 5, 'rf_max_features': 9, 'lr_C': 0.02222408956754431, 'lr_C_2': 4.043480087430725}. Best is trial 19 with value: 0.8840149574624796.\n",
      "[I 2024-10-30 21:04:16,032] Trial 39 finished with value: 0.8814301906878281 and parameters: {'rf_max_depth': 14, 'rf_min_samples_split': 8, 'rf_min_samples_leaf': 1, 'rf_max_features': 8, 'lr_C': 0.00038942382979590757, 'lr_C_2': 0.00011664671949915177}. Best is trial 19 with value: 0.8840149574624796.\n",
      "[I 2024-10-30 21:05:17,718] Trial 40 finished with value: 0.8544365830506508 and parameters: {'rf_max_depth': 13, 'rf_min_samples_split': 9, 'rf_min_samples_leaf': 3, 'rf_max_features': 6, 'lr_C': 6.772553197716311, 'lr_C_2': 0.012480544692116397}. Best is trial 19 with value: 0.8840149574624796.\n",
      "[I 2024-10-30 21:06:29,061] Trial 41 finished with value: 0.8839210494549905 and parameters: {'rf_max_depth': 17, 'rf_min_samples_split': 6, 'rf_min_samples_leaf': 4, 'rf_max_features': 10, 'lr_C': 0.03842954084573217, 'lr_C_2': 1.100177492148311}. Best is trial 19 with value: 0.8840149574624796.\n",
      "[I 2024-10-30 21:07:40,153] Trial 42 finished with value: 0.8828380059278017 and parameters: {'rf_max_depth': 15, 'rf_min_samples_split': 6, 'rf_min_samples_leaf': 4, 'rf_max_features': 10, 'lr_C': 0.03458492748142368, 'lr_C_2': 0.19573574368862953}. Best is trial 19 with value: 0.8840149574624796.\n",
      "[I 2024-10-30 21:08:36,835] Trial 43 finished with value: 0.8836189544686016 and parameters: {'rf_max_depth': 17, 'rf_min_samples_split': 5, 'rf_min_samples_leaf': 6, 'rf_max_features': 9, 'lr_C': 0.0020138601193777734, 'lr_C_2': 1.5082766207964322}. Best is trial 19 with value: 0.8840149574624796.\n",
      "[I 2024-10-30 21:09:55,810] Trial 44 finished with value: 0.8824633307896117 and parameters: {'rf_max_depth': 16, 'rf_min_samples_split': 12, 'rf_min_samples_leaf': 2, 'rf_max_features': 13, 'lr_C': 0.00794930091021366, 'lr_C_2': 0.0666610037531495}. Best is trial 19 with value: 0.8840149574624796.\n",
      "[I 2024-10-30 21:11:01,302] Trial 45 finished with value: 0.8846316247752355 and parameters: {'rf_max_depth': 19, 'rf_min_samples_split': 9, 'rf_min_samples_leaf': 3, 'rf_max_features': 7, 'lr_C': 0.01617125528773439, 'lr_C_2': 0.45050375982516977}. Best is trial 45 with value: 0.8846316247752355.\n",
      "[I 2024-10-30 21:11:58,701] Trial 46 finished with value: 0.8808952411055879 and parameters: {'rf_max_depth': 7, 'rf_min_samples_split': 10, 'rf_min_samples_leaf': 11, 'rf_max_features': 7, 'lr_C': 0.04448443501868055, 'lr_C_2': 0.4132401404177707}. Best is trial 45 with value: 0.8846316247752355.\n",
      "[I 2024-10-30 21:13:02,318] Trial 47 finished with value: 0.8831117275233413 and parameters: {'rf_max_depth': 19, 'rf_min_samples_split': 9, 'rf_min_samples_leaf': 6, 'rf_max_features': 6, 'lr_C': 0.12377014633092549, 'lr_C_2': 1.164979867381557}. Best is trial 45 with value: 0.8846316247752355.\n",
      "[I 2024-10-30 21:14:03,540] Trial 48 finished with value: 0.8841885069673268 and parameters: {'rf_max_depth': 20, 'rf_min_samples_split': 11, 'rf_min_samples_leaf': 5, 'rf_max_features': 7, 'lr_C': 0.0035419377218354523, 'lr_C_2': 2.9481529856067996}. Best is trial 45 with value: 0.8846316247752355.\n",
      "[I 2024-10-30 21:14:55,564] Trial 49 finished with value: 0.8821401400802042 and parameters: {'rf_max_depth': 20, 'rf_min_samples_split': 12, 'rf_min_samples_leaf': 5, 'rf_max_features': 5, 'lr_C': 0.003324707634531848, 'lr_C_2': 2.457844562237616}. Best is trial 45 with value: 0.8846316247752355.\n",
      "[I 2024-10-30 21:15:56,999] Trial 50 finished with value: 0.8838293310590993 and parameters: {'rf_max_depth': 20, 'rf_min_samples_split': 15, 'rf_min_samples_leaf': 8, 'rf_max_features': 8, 'lr_C': 0.00607168813073533, 'lr_C_2': 4.946625818686677}. Best is trial 45 with value: 0.8846316247752355.\n",
      "[I 2024-10-30 21:17:02,181] Trial 51 finished with value: 0.881008248848519 and parameters: {'rf_max_depth': 19, 'rf_min_samples_split': 11, 'rf_min_samples_leaf': 4, 'rf_max_features': 7, 'lr_C': 0.020072867315590028, 'lr_C_2': 2.586762857766029}. Best is trial 45 with value: 0.8846316247752355.\n",
      "[I 2024-10-30 21:18:03,282] Trial 52 finished with value: 0.8821427348591874 and parameters: {'rf_max_depth': 16, 'rf_min_samples_split': 13, 'rf_min_samples_leaf': 5, 'rf_max_features': 8, 'lr_C': 0.0046873430350444995, 'lr_C_2': 0.5383586676977444}. Best is trial 45 with value: 0.8846316247752355.\n",
      "[I 2024-10-30 21:19:08,322] Trial 53 finished with value: 0.8846829143196233 and parameters: {'rf_max_depth': 14, 'rf_min_samples_split': 8, 'rf_min_samples_leaf': 2, 'rf_max_features': 7, 'lr_C': 0.020105502314296263, 'lr_C_2': 6.45381451839563}. Best is trial 53 with value: 0.8846829143196233.\n",
      "[I 2024-10-30 21:20:06,502] Trial 54 finished with value: 0.8826673230701783 and parameters: {'rf_max_depth': 12, 'rf_min_samples_split': 8, 'rf_min_samples_leaf': 2, 'rf_max_features': 5, 'lr_C': 0.018702811437009116, 'lr_C_2': 5.358976186102221}. Best is trial 53 with value: 0.8846829143196233.\n",
      "[I 2024-10-30 21:21:07,401] Trial 55 finished with value: 0.8760728201164935 and parameters: {'rf_max_depth': 14, 'rf_min_samples_split': 10, 'rf_min_samples_leaf': 7, 'rf_max_features': 6, 'lr_C': 0.036687607480005054, 'lr_C_2': 0.0035240969212961388}. Best is trial 53 with value: 0.8846829143196233.\n",
      "[I 2024-10-30 21:21:52,684] Trial 56 finished with value: 0.881762748547808 and parameters: {'rf_max_depth': 15, 'rf_min_samples_split': 11, 'rf_min_samples_leaf': 1, 'rf_max_features': 5, 'lr_C': 0.0009561528346236967, 'lr_C_2': 6.307575182268474}. Best is trial 53 with value: 0.8846829143196233.\n",
      "[I 2024-10-30 21:23:17,091] Trial 57 finished with value: 0.8838372332272753 and parameters: {'rf_max_depth': 14, 'rf_min_samples_split': 9, 'rf_min_samples_leaf': 4, 'rf_max_features': 10, 'lr_C': 0.08354109949817076, 'lr_C_2': 3.0155223279753245}. Best is trial 53 with value: 0.8846829143196233.\n",
      "[I 2024-10-30 21:24:19,303] Trial 58 finished with value: 0.8822990217736888 and parameters: {'rf_max_depth': 13, 'rf_min_samples_split': 11, 'rf_min_samples_leaf': 5, 'rf_max_features': 7, 'lr_C': 0.007217116179417676, 'lr_C_2': 1.3687520768377157}. Best is trial 53 with value: 0.8846829143196233.\n",
      "[I 2024-10-30 21:25:18,888] Trial 59 finished with value: 0.8628032407230576 and parameters: {'rf_max_depth': 15, 'rf_min_samples_split': 10, 'rf_min_samples_leaf': 6, 'rf_max_features': 4, 'lr_C': 0.25180061552891186, 'lr_C_2': 0.0008003726022823646}. Best is trial 53 with value: 0.8846829143196233.\n",
      "[I 2024-10-30 21:26:24,205] Trial 60 finished with value: 0.8832307045453869 and parameters: {'rf_max_depth': 10, 'rf_min_samples_split': 9, 'rf_min_samples_leaf': 3, 'rf_max_features': 13, 'lr_C': 0.002940564695985751, 'lr_C_2': 6.50738881278107}. Best is trial 53 with value: 0.8846829143196233.\n",
      "[I 2024-10-30 21:27:33,354] Trial 61 finished with value: 0.8840572465654942 and parameters: {'rf_max_depth': 18, 'rf_min_samples_split': 6, 'rf_min_samples_leaf': 4, 'rf_max_features': 8, 'lr_C': 0.0180610811875231, 'lr_C_2': 3.4489612842094752}. Best is trial 53 with value: 0.8846829143196233.\n",
      "[I 2024-10-30 21:28:43,015] Trial 62 finished with value: 0.8833755610025196 and parameters: {'rf_max_depth': 17, 'rf_min_samples_split': 6, 'rf_min_samples_leaf': 4, 'rf_max_features': 8, 'lr_C': 0.03014597676440735, 'lr_C_2': 3.1057793504692266}. Best is trial 53 with value: 0.8846829143196233.\n",
      "[I 2024-10-30 21:29:57,301] Trial 63 finished with value: 0.8788095574940731 and parameters: {'rf_max_depth': 19, 'rf_min_samples_split': 6, 'rf_min_samples_leaf': 2, 'rf_max_features': 8, 'lr_C': 0.052947518891189975, 'lr_C_2': 1.9339432563227634}. Best is trial 53 with value: 0.8846829143196233.\n",
      "[I 2024-10-30 21:30:59,929] Trial 64 finished with value: 0.8814552940921072 and parameters: {'rf_max_depth': 18, 'rf_min_samples_split': 4, 'rf_min_samples_leaf': 9, 'rf_max_features': 7, 'lr_C': 0.01686299231292582, 'lr_C_2': 9.790592032474201}. Best is trial 53 with value: 0.8846829143196233.\n",
      "[I 2024-10-30 21:32:20,224] Trial 65 finished with value: 0.8842014791979855 and parameters: {'rf_max_depth': 20, 'rf_min_samples_split': 5, 'rf_min_samples_leaf': 3, 'rf_max_features': 12, 'lr_C': 0.00867816818121117, 'lr_C_2': 1.2521694664851972}. Best is trial 53 with value: 0.8846829143196233.\n",
      "[I 2024-10-30 21:33:45,666] Trial 66 finished with value: 0.8833080861545068 and parameters: {'rf_max_depth': 20, 'rf_min_samples_split': 4, 'rf_min_samples_leaf': 3, 'rf_max_features': 14, 'lr_C': 0.008456894861794005, 'lr_C_2': 6.297513610125998}. Best is trial 53 with value: 0.8846829143196233.\n",
      "[I 2024-10-30 21:35:05,556] Trial 67 finished with value: 0.8828251593106924 and parameters: {'rf_max_depth': 20, 'rf_min_samples_split': 4, 'rf_min_samples_leaf': 1, 'rf_max_features': 12, 'lr_C': 0.004327673374126686, 'lr_C_2': 3.5789711459359537}. Best is trial 53 with value: 0.8846829143196233.\n",
      "[I 2024-10-30 21:36:08,925] Trial 68 finished with value: 0.8840944264367782 and parameters: {'rf_max_depth': 19, 'rf_min_samples_split': 5, 'rf_min_samples_leaf': 2, 'rf_max_features': 6, 'lr_C': 0.005208455371508394, 'lr_C_2': 2.1614272038361975}. Best is trial 53 with value: 0.8846829143196233.\n",
      "[I 2024-10-30 21:37:01,137] Trial 69 finished with value: 0.8834719964208926 and parameters: {'rf_max_depth': 19, 'rf_min_samples_split': 5, 'rf_min_samples_leaf': 2, 'rf_max_features': 6, 'lr_C': 0.0012703890860056312, 'lr_C_2': 2.3709127688362748}. Best is trial 53 with value: 0.8846829143196233.\n",
      "[I 2024-10-30 21:37:44,446] Trial 70 finished with value: 0.8806093730910138 and parameters: {'rf_max_depth': 20, 'rf_min_samples_split': 5, 'rf_min_samples_leaf': 3, 'rf_max_features': 5, 'lr_C': 0.0006107469995718758, 'lr_C_2': 4.621182676974834}. Best is trial 53 with value: 0.8846829143196233.\n",
      "[I 2024-10-30 21:38:49,506] Trial 71 finished with value: 0.8823569175696785 and parameters: {'rf_max_depth': 19, 'rf_min_samples_split': 3, 'rf_min_samples_leaf': 2, 'rf_max_features': 7, 'lr_C': 0.004775773407302267, 'lr_C_2': 1.3729746749072884}. Best is trial 53 with value: 0.8846829143196233.\n",
      "[I 2024-10-30 21:39:54,118] Trial 72 finished with value: 0.8840376202844183 and parameters: {'rf_max_depth': 18, 'rf_min_samples_split': 5, 'rf_min_samples_leaf': 3, 'rf_max_features': 6, 'lr_C': 0.01009515644020027, 'lr_C_2': 0.7175474768258862}. Best is trial 53 with value: 0.8846829143196233.\n",
      "[I 2024-10-30 21:40:59,108] Trial 73 finished with value: 0.8840365766018292 and parameters: {'rf_max_depth': 18, 'rf_min_samples_split': 5, 'rf_min_samples_leaf': 3, 'rf_max_features': 6, 'lr_C': 0.010437123485465218, 'lr_C_2': 0.66534928740639}. Best is trial 53 with value: 0.8846829143196233.\n",
      "[I 2024-10-30 21:42:05,933] Trial 74 finished with value: 0.881525470815052 and parameters: {'rf_max_depth': 18, 'rf_min_samples_split': 5, 'rf_min_samples_leaf': 1, 'rf_max_features': 6, 'lr_C': 0.009548992976178398, 'lr_C_2': 0.49096615450312736}. Best is trial 53 with value: 0.8846829143196233.\n",
      "[I 2024-10-30 21:42:57,253] Trial 75 finished with value: 0.8829342986900292 and parameters: {'rf_max_depth': 18, 'rf_min_samples_split': 4, 'rf_min_samples_leaf': 3, 'rf_max_features': 4, 'lr_C': 0.0026538650384770866, 'lr_C_2': 0.5952877390001231}. Best is trial 53 with value: 0.8846829143196233.\n",
      "[I 2024-10-30 21:43:47,902] Trial 76 finished with value: 0.8801515339770267 and parameters: {'rf_max_depth': 19, 'rf_min_samples_split': 5, 'rf_min_samples_leaf': 2, 'rf_max_features': 5, 'lr_C': 0.0014478448308204166, 'lr_C_2': 0.9146440079818641}. Best is trial 53 with value: 0.8846829143196233.\n",
      "[I 2024-10-30 21:44:49,805] Trial 77 finished with value: 0.883440782940859 and parameters: {'rf_max_depth': 20, 'rf_min_samples_split': 3, 'rf_min_samples_leaf': 3, 'rf_max_features': 6, 'lr_C': 0.005221217446485083, 'lr_C_2': 0.26631913594484374}. Best is trial 53 with value: 0.8846829143196233.\n",
      "[I 2024-10-30 21:45:59,102] Trial 78 finished with value: 0.8834495796941116 and parameters: {'rf_max_depth': 19, 'rf_min_samples_split': 6, 'rf_min_samples_leaf': 2, 'rf_max_features': 7, 'lr_C': 0.027761771568284976, 'lr_C_2': 0.7205407319905903}. Best is trial 53 with value: 0.8846829143196233.\n",
      "[I 2024-10-30 21:47:04,704] Trial 79 finished with value: 0.8838352879470877 and parameters: {'rf_max_depth': 18, 'rf_min_samples_split': 4, 'rf_min_samples_leaf': 3, 'rf_max_features': 6, 'lr_C': 0.01564385625480828, 'lr_C_2': 1.8316173638886122}. Best is trial 53 with value: 0.8846829143196233.\n",
      "[I 2024-10-30 21:48:22,337] Trial 80 finished with value: 0.882732998044609 and parameters: {'rf_max_depth': 17, 'rf_min_samples_split': 5, 'rf_min_samples_leaf': 14, 'rf_max_features': 18, 'lr_C': 0.0065047504361866815, 'lr_C_2': 0.10988005325293992}. Best is trial 53 with value: 0.8846829143196233.\n",
      "[I 2024-10-30 21:49:53,621] Trial 81 finished with value: 0.8804088318828519 and parameters: {'rf_max_depth': 19, 'rf_min_samples_split': 6, 'rf_min_samples_leaf': 1, 'rf_max_features': 15, 'lr_C': 0.011040444498927984, 'lr_C_2': 7.351202918149218}. Best is trial 53 with value: 0.8846829143196233.\n",
      "[I 2024-10-30 21:50:51,726] Trial 82 finished with value: 0.8817259677842219 and parameters: {'rf_max_depth': 16, 'rf_min_samples_split': 7, 'rf_min_samples_leaf': 4, 'rf_max_features': 7, 'lr_C': 0.002496363352599774, 'lr_C_2': 4.02288255524943}. Best is trial 53 with value: 0.8846829143196233.\n",
      "[I 2024-10-30 21:52:04,349] Trial 83 finished with value: 0.8827609695392922 and parameters: {'rf_max_depth': 20, 'rf_min_samples_split': 8, 'rf_min_samples_leaf': 5, 'rf_max_features': 13, 'lr_C': 0.003622819297857145, 'lr_C_2': 3.1780072669764805}. Best is trial 53 with value: 0.8846829143196233.\n",
      "[I 2024-10-30 21:53:06,242] Trial 84 finished with value: 0.881242350769083 and parameters: {'rf_max_depth': 18, 'rf_min_samples_split': 6, 'rf_min_samples_leaf': 3, 'rf_max_features': 5, 'lr_C': 0.00794367901332837, 'lr_C_2': 1.0110871536827395}. Best is trial 53 with value: 0.8846829143196233.\n",
      "[I 2024-10-30 21:54:09,720] Trial 85 finished with value: 0.8817330180444486 and parameters: {'rf_max_depth': 19, 'rf_min_samples_split': 5, 'rf_min_samples_leaf': 10, 'rf_max_features': 8, 'lr_C': 0.013698072423316277, 'lr_C_2': 1.7353036208131671}. Best is trial 53 with value: 0.8846829143196233.\n",
      "[I 2024-10-30 21:55:15,441] Trial 86 finished with value: 0.8828372362092256 and parameters: {'rf_max_depth': 17, 'rf_min_samples_split': 7, 'rf_min_samples_leaf': 2, 'rf_max_features': 6, 'lr_C': 0.023719863381336005, 'lr_C_2': 2.254315711680586}. Best is trial 53 with value: 0.8846829143196233.\n",
      "[I 2024-10-30 21:56:33,457] Trial 87 finished with value: 0.883097709564009 and parameters: {'rf_max_depth': 20, 'rf_min_samples_split': 5, 'rf_min_samples_leaf': 4, 'rf_max_features': 12, 'lr_C': 0.010043819341105499, 'lr_C_2': 0.41051929474004134}. Best is trial 53 with value: 0.8846829143196233.\n",
      "[I 2024-10-30 21:57:54,055] Trial 88 finished with value: 0.8837416617215992 and parameters: {'rf_max_depth': 18, 'rf_min_samples_split': 6, 'rf_min_samples_leaf': 5, 'rf_max_features': 16, 'lr_C': 0.0038201593115703603, 'lr_C_2': 5.252712117097999}. Best is trial 53 with value: 0.8846829143196233.\n",
      "[I 2024-10-30 21:58:50,824] Trial 89 finished with value: 0.8833710884554798 and parameters: {'rf_max_depth': 11, 'rf_min_samples_split': 7, 'rf_min_samples_leaf': 9, 'rf_max_features': 7, 'lr_C': 0.0063064929514702675, 'lr_C_2': 0.1416804485280732}. Best is trial 53 with value: 0.8846829143196233.\n",
      "[I 2024-10-30 21:59:51,157] Trial 90 finished with value: 0.8827585127224907 and parameters: {'rf_max_depth': 19, 'rf_min_samples_split': 13, 'rf_min_samples_leaf': 3, 'rf_max_features': 4, 'lr_C': 0.0570743484363444, 'lr_C_2': 8.045379193881105}. Best is trial 53 with value: 0.8846829143196233.\n",
      "[I 2024-10-30 22:01:00,074] Trial 91 finished with value: 0.8840039242465357 and parameters: {'rf_max_depth': 14, 'rf_min_samples_split': 10, 'rf_min_samples_leaf': 4, 'rf_max_features': 9, 'lr_C': 0.015742753189773855, 'lr_C_2': 1.252511748112195}. Best is trial 53 with value: 0.8846829143196233.\n",
      "[I 2024-10-30 22:01:52,842] Trial 92 finished with value: 0.8791343994799478 and parameters: {'rf_max_depth': 5, 'rf_min_samples_split': 9, 'rf_min_samples_leaf': 4, 'rf_max_features': 8, 'lr_C': 0.0157970733330321, 'lr_C_2': 0.78552672608372}. Best is trial 53 with value: 0.8846829143196233.\n",
      "[I 2024-10-30 22:02:56,256] Trial 93 finished with value: 0.8838389941794225 and parameters: {'rf_max_depth': 13, 'rf_min_samples_split': 10, 'rf_min_samples_leaf': 6, 'rf_max_features': 7, 'lr_C': 0.027040955460190058, 'lr_C_2': 1.4094077749567644}. Best is trial 53 with value: 0.8846829143196233.\n",
      "[I 2024-10-30 22:05:11,719] Trial 94 finished with value: 0.8813204986677536 and parameters: {'rf_max_depth': 14, 'rf_min_samples_split': 12, 'rf_min_samples_leaf': 2, 'rf_max_features': 11, 'lr_C': 0.011820724542127067, 'lr_C_2': 2.5984709360961302}. Best is trial 53 with value: 0.8846829143196233.\n",
      "[I 2024-10-30 22:07:21,389] Trial 95 finished with value: 0.8824355563264852 and parameters: {'rf_max_depth': 16, 'rf_min_samples_split': 4, 'rf_min_samples_leaf': 3, 'rf_max_features': 9, 'lr_C': 0.01869345868332792, 'lr_C_2': 0.2894968216684203}. Best is trial 53 with value: 0.8846829143196233.\n",
      "[I 2024-10-30 22:09:03,472] Trial 96 finished with value: 0.883307199698287 and parameters: {'rf_max_depth': 20, 'rf_min_samples_split': 11, 'rf_min_samples_leaf': 7, 'rf_max_features': 6, 'lr_C': 0.007821306246762035, 'lr_C_2': 4.071423912783249}. Best is trial 53 with value: 0.8846829143196233.\n",
      "[I 2024-10-30 22:11:03,209] Trial 97 finished with value: 0.8836547590626309 and parameters: {'rf_max_depth': 19, 'rf_min_samples_split': 8, 'rf_min_samples_leaf': 4, 'rf_max_features': 8, 'lr_C': 0.013210547026941273, 'lr_C_2': 1.1712331695637186}. Best is trial 53 with value: 0.8846829143196233.\n",
      "[I 2024-10-30 22:12:46,132] Trial 98 finished with value: 0.8837722267117141 and parameters: {'rf_max_depth': 18, 'rf_min_samples_split': 5, 'rf_min_samples_leaf': 5, 'rf_max_features': 6, 'lr_C': 0.005853288695335553, 'lr_C_2': 0.6469096279535054}. Best is trial 53 with value: 0.8846829143196233.\n",
      "[I 2024-10-30 22:14:26,524] Trial 99 finished with value: 0.88014086541089 and parameters: {'rf_max_depth': 15, 'rf_min_samples_split': 4, 'rf_min_samples_leaf': 3, 'rf_max_features': 5, 'lr_C': 0.020850904336334013, 'lr_C_2': 3.0087999201350453}. Best is trial 53 with value: 0.8846829143196233.\n"
     ]
    },
    {
     "name": "stdout",
     "output_type": "stream",
     "text": [
      "Best trial:\n",
      "Value: 0.8846829143196233\n",
      "Params:\n",
      "    rf_max_depth: 14\n",
      "    rf_min_samples_split: 8\n",
      "    rf_min_samples_leaf: 2\n",
      "    rf_max_features: 7\n",
      "    lr_C: 0.020105502314296263\n",
      "    lr_C_2: 6.45381451839563\n"
     ]
    }
   ],
   "source": [
    "def objective(trial):\n",
    "    rf_max_depth = trial.suggest_int('rf_max_depth', 5, 20)\n",
    "    rf_min_samples_split = trial.suggest_int('rf_min_samples_split', 2, 15)\n",
    "    rf_min_samples_leaf = trial.suggest_int('rf_min_samples_leaf', 1, 15)\n",
    "    rf_max_features = trial.suggest_int('rf_max_features', 4, 20)\n",
    "\n",
    "    rf_pipeline = Pipeline([\n",
    "        ('rf', RandomForestClassifier(\n",
    "            criterion='entropy',\n",
    "            max_depth=rf_max_depth,\n",
    "            min_samples_split=rf_min_samples_split,\n",
    "            min_samples_leaf=rf_min_samples_leaf,\n",
    "            max_features=rf_max_features,\n",
    "            random_state=SEED\n",
    "        ))\n",
    "    ])\n",
    "\n",
    "    lr_C = trial.suggest_loguniform('lr_C', 1e-4, 1e1)\n",
    "    \n",
    "    lr_pipeline = Pipeline([\n",
    "        ('scaler', StandardScaler()),\n",
    "        ('poly', PolynomialFeatures(degree=2, include_bias=False)),\n",
    "        ('lr', LogisticRegression(C=lr_C, random_state=SEED))\n",
    "    ])\n",
    "\n",
    "    lr_C_2 = trial.suggest_loguniform('lr_C_2', 1e-4, 1e1)\n",
    "    \n",
    "    stacking_model = StackingClassifier(\n",
    "        estimators=[\n",
    "            ('rf_pipeline', rf_pipeline),\n",
    "            ('lr_pipeline', lr_pipeline)\n",
    "        ],\n",
    "        final_estimator=LogisticRegression(C=lr_C_2, random_state=SEED),\n",
    "        cv=skf\n",
    "    )\n",
    "\n",
    "    train_score = cross_val_score(stacking_model, X_train, y_train, cv=skf, n_jobs=-1, scoring='roc_auc').mean()\n",
    "    test_score = cross_val_score(stacking_model, X_test, y_test, cv=skf, n_jobs=-1, scoring='roc_auc').mean()\n",
    "    \n",
    "    # Минимизация разницы между обучением и тестом для уменьшения переобучения\n",
    "    difference = abs(train_score - test_score)\n",
    "    score = test_score - difference\n",
    "    \n",
    "    return score\n",
    "\n",
    "study = optuna.create_study(\n",
    "    storage='sqlite:///optuna.db',\n",
    "    study_name='My study',\n",
    "    load_if_exists=True,\n",
    "    direction='maximize'\n",
    ")\n",
    "\n",
    "study.optimize(objective, n_trials=100)\n",
    "\n",
    "trial = study.best_trial\n",
    "\n",
    "print(\"Best trial:\")\n",
    "print(f\"Value: {trial.value}\")\n",
    "print(\"Params:\")\n",
    "for key, value in trial.params.items():\n",
    "    print(f\"    {key}: {value}\")\n"
   ]
  },
  {
   "cell_type": "markdown",
   "metadata": {},
   "source": [
    "Глянем какие параметры влияли а какие нет"
   ]
  },
  {
   "cell_type": "code",
   "execution_count": 12,
   "metadata": {},
   "outputs": [
    {
     "data": {
      "application/vnd.plotly.v1+json": {
       "config": {
        "plotlyServerURL": "https://plot.ly"
       },
       "data": [
        {
         "cliponaxis": false,
         "hovertemplate": [
          "rf_max_features (IntDistribution): 0.019610245384887353<extra></extra>",
          "rf_min_samples_leaf (IntDistribution): 0.03481862367356538<extra></extra>",
          "rf_max_depth (IntDistribution): 0.057458306851835464<extra></extra>",
          "rf_min_samples_split (IntDistribution): 0.0598755470772607<extra></extra>",
          "lr_C_2 (FloatDistribution): 0.06600208733142397<extra></extra>",
          "lr_C (FloatDistribution): 0.7622351896810271<extra></extra>"
         ],
         "name": "Objective Value",
         "orientation": "h",
         "text": [
          "0.02",
          "0.03",
          "0.06",
          "0.06",
          "0.07",
          "0.76"
         ],
         "textposition": "outside",
         "type": "bar",
         "x": [
          0.019610245384887353,
          0.03481862367356538,
          0.057458306851835464,
          0.0598755470772607,
          0.06600208733142397,
          0.7622351896810271
         ],
         "y": [
          "rf_max_features",
          "rf_min_samples_leaf",
          "rf_max_depth",
          "rf_min_samples_split",
          "lr_C_2",
          "lr_C"
         ]
        }
       ],
       "layout": {
        "template": {
         "data": {
          "bar": [
           {
            "error_x": {
             "color": "#2a3f5f"
            },
            "error_y": {
             "color": "#2a3f5f"
            },
            "marker": {
             "line": {
              "color": "#E5ECF6",
              "width": 0.5
             },
             "pattern": {
              "fillmode": "overlay",
              "size": 10,
              "solidity": 0.2
             }
            },
            "type": "bar"
           }
          ],
          "barpolar": [
           {
            "marker": {
             "line": {
              "color": "#E5ECF6",
              "width": 0.5
             },
             "pattern": {
              "fillmode": "overlay",
              "size": 10,
              "solidity": 0.2
             }
            },
            "type": "barpolar"
           }
          ],
          "carpet": [
           {
            "aaxis": {
             "endlinecolor": "#2a3f5f",
             "gridcolor": "white",
             "linecolor": "white",
             "minorgridcolor": "white",
             "startlinecolor": "#2a3f5f"
            },
            "baxis": {
             "endlinecolor": "#2a3f5f",
             "gridcolor": "white",
             "linecolor": "white",
             "minorgridcolor": "white",
             "startlinecolor": "#2a3f5f"
            },
            "type": "carpet"
           }
          ],
          "choropleth": [
           {
            "colorbar": {
             "outlinewidth": 0,
             "ticks": ""
            },
            "type": "choropleth"
           }
          ],
          "contour": [
           {
            "colorbar": {
             "outlinewidth": 0,
             "ticks": ""
            },
            "colorscale": [
             [
              0,
              "#0d0887"
             ],
             [
              0.1111111111111111,
              "#46039f"
             ],
             [
              0.2222222222222222,
              "#7201a8"
             ],
             [
              0.3333333333333333,
              "#9c179e"
             ],
             [
              0.4444444444444444,
              "#bd3786"
             ],
             [
              0.5555555555555556,
              "#d8576b"
             ],
             [
              0.6666666666666666,
              "#ed7953"
             ],
             [
              0.7777777777777778,
              "#fb9f3a"
             ],
             [
              0.8888888888888888,
              "#fdca26"
             ],
             [
              1,
              "#f0f921"
             ]
            ],
            "type": "contour"
           }
          ],
          "contourcarpet": [
           {
            "colorbar": {
             "outlinewidth": 0,
             "ticks": ""
            },
            "type": "contourcarpet"
           }
          ],
          "heatmap": [
           {
            "colorbar": {
             "outlinewidth": 0,
             "ticks": ""
            },
            "colorscale": [
             [
              0,
              "#0d0887"
             ],
             [
              0.1111111111111111,
              "#46039f"
             ],
             [
              0.2222222222222222,
              "#7201a8"
             ],
             [
              0.3333333333333333,
              "#9c179e"
             ],
             [
              0.4444444444444444,
              "#bd3786"
             ],
             [
              0.5555555555555556,
              "#d8576b"
             ],
             [
              0.6666666666666666,
              "#ed7953"
             ],
             [
              0.7777777777777778,
              "#fb9f3a"
             ],
             [
              0.8888888888888888,
              "#fdca26"
             ],
             [
              1,
              "#f0f921"
             ]
            ],
            "type": "heatmap"
           }
          ],
          "heatmapgl": [
           {
            "colorbar": {
             "outlinewidth": 0,
             "ticks": ""
            },
            "colorscale": [
             [
              0,
              "#0d0887"
             ],
             [
              0.1111111111111111,
              "#46039f"
             ],
             [
              0.2222222222222222,
              "#7201a8"
             ],
             [
              0.3333333333333333,
              "#9c179e"
             ],
             [
              0.4444444444444444,
              "#bd3786"
             ],
             [
              0.5555555555555556,
              "#d8576b"
             ],
             [
              0.6666666666666666,
              "#ed7953"
             ],
             [
              0.7777777777777778,
              "#fb9f3a"
             ],
             [
              0.8888888888888888,
              "#fdca26"
             ],
             [
              1,
              "#f0f921"
             ]
            ],
            "type": "heatmapgl"
           }
          ],
          "histogram": [
           {
            "marker": {
             "pattern": {
              "fillmode": "overlay",
              "size": 10,
              "solidity": 0.2
             }
            },
            "type": "histogram"
           }
          ],
          "histogram2d": [
           {
            "colorbar": {
             "outlinewidth": 0,
             "ticks": ""
            },
            "colorscale": [
             [
              0,
              "#0d0887"
             ],
             [
              0.1111111111111111,
              "#46039f"
             ],
             [
              0.2222222222222222,
              "#7201a8"
             ],
             [
              0.3333333333333333,
              "#9c179e"
             ],
             [
              0.4444444444444444,
              "#bd3786"
             ],
             [
              0.5555555555555556,
              "#d8576b"
             ],
             [
              0.6666666666666666,
              "#ed7953"
             ],
             [
              0.7777777777777778,
              "#fb9f3a"
             ],
             [
              0.8888888888888888,
              "#fdca26"
             ],
             [
              1,
              "#f0f921"
             ]
            ],
            "type": "histogram2d"
           }
          ],
          "histogram2dcontour": [
           {
            "colorbar": {
             "outlinewidth": 0,
             "ticks": ""
            },
            "colorscale": [
             [
              0,
              "#0d0887"
             ],
             [
              0.1111111111111111,
              "#46039f"
             ],
             [
              0.2222222222222222,
              "#7201a8"
             ],
             [
              0.3333333333333333,
              "#9c179e"
             ],
             [
              0.4444444444444444,
              "#bd3786"
             ],
             [
              0.5555555555555556,
              "#d8576b"
             ],
             [
              0.6666666666666666,
              "#ed7953"
             ],
             [
              0.7777777777777778,
              "#fb9f3a"
             ],
             [
              0.8888888888888888,
              "#fdca26"
             ],
             [
              1,
              "#f0f921"
             ]
            ],
            "type": "histogram2dcontour"
           }
          ],
          "mesh3d": [
           {
            "colorbar": {
             "outlinewidth": 0,
             "ticks": ""
            },
            "type": "mesh3d"
           }
          ],
          "parcoords": [
           {
            "line": {
             "colorbar": {
              "outlinewidth": 0,
              "ticks": ""
             }
            },
            "type": "parcoords"
           }
          ],
          "pie": [
           {
            "automargin": true,
            "type": "pie"
           }
          ],
          "scatter": [
           {
            "fillpattern": {
             "fillmode": "overlay",
             "size": 10,
             "solidity": 0.2
            },
            "type": "scatter"
           }
          ],
          "scatter3d": [
           {
            "line": {
             "colorbar": {
              "outlinewidth": 0,
              "ticks": ""
             }
            },
            "marker": {
             "colorbar": {
              "outlinewidth": 0,
              "ticks": ""
             }
            },
            "type": "scatter3d"
           }
          ],
          "scattercarpet": [
           {
            "marker": {
             "colorbar": {
              "outlinewidth": 0,
              "ticks": ""
             }
            },
            "type": "scattercarpet"
           }
          ],
          "scattergeo": [
           {
            "marker": {
             "colorbar": {
              "outlinewidth": 0,
              "ticks": ""
             }
            },
            "type": "scattergeo"
           }
          ],
          "scattergl": [
           {
            "marker": {
             "colorbar": {
              "outlinewidth": 0,
              "ticks": ""
             }
            },
            "type": "scattergl"
           }
          ],
          "scattermapbox": [
           {
            "marker": {
             "colorbar": {
              "outlinewidth": 0,
              "ticks": ""
             }
            },
            "type": "scattermapbox"
           }
          ],
          "scatterpolar": [
           {
            "marker": {
             "colorbar": {
              "outlinewidth": 0,
              "ticks": ""
             }
            },
            "type": "scatterpolar"
           }
          ],
          "scatterpolargl": [
           {
            "marker": {
             "colorbar": {
              "outlinewidth": 0,
              "ticks": ""
             }
            },
            "type": "scatterpolargl"
           }
          ],
          "scatterternary": [
           {
            "marker": {
             "colorbar": {
              "outlinewidth": 0,
              "ticks": ""
             }
            },
            "type": "scatterternary"
           }
          ],
          "surface": [
           {
            "colorbar": {
             "outlinewidth": 0,
             "ticks": ""
            },
            "colorscale": [
             [
              0,
              "#0d0887"
             ],
             [
              0.1111111111111111,
              "#46039f"
             ],
             [
              0.2222222222222222,
              "#7201a8"
             ],
             [
              0.3333333333333333,
              "#9c179e"
             ],
             [
              0.4444444444444444,
              "#bd3786"
             ],
             [
              0.5555555555555556,
              "#d8576b"
             ],
             [
              0.6666666666666666,
              "#ed7953"
             ],
             [
              0.7777777777777778,
              "#fb9f3a"
             ],
             [
              0.8888888888888888,
              "#fdca26"
             ],
             [
              1,
              "#f0f921"
             ]
            ],
            "type": "surface"
           }
          ],
          "table": [
           {
            "cells": {
             "fill": {
              "color": "#EBF0F8"
             },
             "line": {
              "color": "white"
             }
            },
            "header": {
             "fill": {
              "color": "#C8D4E3"
             },
             "line": {
              "color": "white"
             }
            },
            "type": "table"
           }
          ]
         },
         "layout": {
          "annotationdefaults": {
           "arrowcolor": "#2a3f5f",
           "arrowhead": 0,
           "arrowwidth": 1
          },
          "autotypenumbers": "strict",
          "coloraxis": {
           "colorbar": {
            "outlinewidth": 0,
            "ticks": ""
           }
          },
          "colorscale": {
           "diverging": [
            [
             0,
             "#8e0152"
            ],
            [
             0.1,
             "#c51b7d"
            ],
            [
             0.2,
             "#de77ae"
            ],
            [
             0.3,
             "#f1b6da"
            ],
            [
             0.4,
             "#fde0ef"
            ],
            [
             0.5,
             "#f7f7f7"
            ],
            [
             0.6,
             "#e6f5d0"
            ],
            [
             0.7,
             "#b8e186"
            ],
            [
             0.8,
             "#7fbc41"
            ],
            [
             0.9,
             "#4d9221"
            ],
            [
             1,
             "#276419"
            ]
           ],
           "sequential": [
            [
             0,
             "#0d0887"
            ],
            [
             0.1111111111111111,
             "#46039f"
            ],
            [
             0.2222222222222222,
             "#7201a8"
            ],
            [
             0.3333333333333333,
             "#9c179e"
            ],
            [
             0.4444444444444444,
             "#bd3786"
            ],
            [
             0.5555555555555556,
             "#d8576b"
            ],
            [
             0.6666666666666666,
             "#ed7953"
            ],
            [
             0.7777777777777778,
             "#fb9f3a"
            ],
            [
             0.8888888888888888,
             "#fdca26"
            ],
            [
             1,
             "#f0f921"
            ]
           ],
           "sequentialminus": [
            [
             0,
             "#0d0887"
            ],
            [
             0.1111111111111111,
             "#46039f"
            ],
            [
             0.2222222222222222,
             "#7201a8"
            ],
            [
             0.3333333333333333,
             "#9c179e"
            ],
            [
             0.4444444444444444,
             "#bd3786"
            ],
            [
             0.5555555555555556,
             "#d8576b"
            ],
            [
             0.6666666666666666,
             "#ed7953"
            ],
            [
             0.7777777777777778,
             "#fb9f3a"
            ],
            [
             0.8888888888888888,
             "#fdca26"
            ],
            [
             1,
             "#f0f921"
            ]
           ]
          },
          "colorway": [
           "#636efa",
           "#EF553B",
           "#00cc96",
           "#ab63fa",
           "#FFA15A",
           "#19d3f3",
           "#FF6692",
           "#B6E880",
           "#FF97FF",
           "#FECB52"
          ],
          "font": {
           "color": "#2a3f5f"
          },
          "geo": {
           "bgcolor": "white",
           "lakecolor": "white",
           "landcolor": "#E5ECF6",
           "showlakes": true,
           "showland": true,
           "subunitcolor": "white"
          },
          "hoverlabel": {
           "align": "left"
          },
          "hovermode": "closest",
          "mapbox": {
           "style": "light"
          },
          "paper_bgcolor": "white",
          "plot_bgcolor": "#E5ECF6",
          "polar": {
           "angularaxis": {
            "gridcolor": "white",
            "linecolor": "white",
            "ticks": ""
           },
           "bgcolor": "#E5ECF6",
           "radialaxis": {
            "gridcolor": "white",
            "linecolor": "white",
            "ticks": ""
           }
          },
          "scene": {
           "xaxis": {
            "backgroundcolor": "#E5ECF6",
            "gridcolor": "white",
            "gridwidth": 2,
            "linecolor": "white",
            "showbackground": true,
            "ticks": "",
            "zerolinecolor": "white"
           },
           "yaxis": {
            "backgroundcolor": "#E5ECF6",
            "gridcolor": "white",
            "gridwidth": 2,
            "linecolor": "white",
            "showbackground": true,
            "ticks": "",
            "zerolinecolor": "white"
           },
           "zaxis": {
            "backgroundcolor": "#E5ECF6",
            "gridcolor": "white",
            "gridwidth": 2,
            "linecolor": "white",
            "showbackground": true,
            "ticks": "",
            "zerolinecolor": "white"
           }
          },
          "shapedefaults": {
           "line": {
            "color": "#2a3f5f"
           }
          },
          "ternary": {
           "aaxis": {
            "gridcolor": "white",
            "linecolor": "white",
            "ticks": ""
           },
           "baxis": {
            "gridcolor": "white",
            "linecolor": "white",
            "ticks": ""
           },
           "bgcolor": "#E5ECF6",
           "caxis": {
            "gridcolor": "white",
            "linecolor": "white",
            "ticks": ""
           }
          },
          "title": {
           "x": 0.05
          },
          "xaxis": {
           "automargin": true,
           "gridcolor": "white",
           "linecolor": "white",
           "ticks": "",
           "title": {
            "standoff": 15
           },
           "zerolinecolor": "white",
           "zerolinewidth": 2
          },
          "yaxis": {
           "automargin": true,
           "gridcolor": "white",
           "linecolor": "white",
           "ticks": "",
           "title": {
            "standoff": 15
           },
           "zerolinecolor": "white",
           "zerolinewidth": 2
          }
         }
        },
        "title": {
         "text": "Hyperparameter Importances"
        },
        "xaxis": {
         "title": {
          "text": "Hyperparameter Importance"
         }
        },
        "yaxis": {
         "title": {
          "text": "Hyperparameter"
         }
        }
       }
      }
     },
     "metadata": {},
     "output_type": "display_data"
    }
   ],
   "source": [
    "vis.plot_param_importances(study).show()"
   ]
  },
  {
   "cell_type": "code",
   "execution_count": 16,
   "metadata": {},
   "outputs": [],
   "source": [
    "rf_pipeline = Pipeline([\n",
    "    ('rf', RandomForestClassifier(criterion='entropy',\n",
    "                                  max_depth=14,\n",
    "                                  min_samples_split=8,\n",
    "                                  min_samples_leaf=2,\n",
    "                                  max_features=7,\n",
    "                                  random_state=SEED))\n",
    "])\n",
    "\n",
    "lr_pipeline = Pipeline([\n",
    "    ('scaler', StandardScaler()),\n",
    "    ('poly', PolynomialFeatures(degree=2)),\n",
    "    ('lr', LogisticRegression(C=0.02, random_state=SEED))\n",
    "])\n",
    "\n",
    "stacking_model = StackingClassifier(\n",
    "    estimators=[\n",
    "        ('rf_pipeline', rf_pipeline),\n",
    "        ('lr_pipeline', lr_pipeline)\n",
    "    ],\n",
    "    final_estimator=LogisticRegression(C=6.45, random_state=SEED),\n",
    "    cv=skf\n",
    ")"
   ]
  },
  {
   "cell_type": "markdown",
   "metadata": {},
   "source": [
    "## Calibration"
   ]
  },
  {
   "cell_type": "code",
   "execution_count": 17,
   "metadata": {},
   "outputs": [],
   "source": [
    "def plot_calibration_curve(y_true, y_probs_list, labels, title):\n",
    "    plt.figure(figsize=(8, 6))\n",
    "    plt.plot([0, 1], [0, 1], linestyle='--', label='Perfectly Calibrated', color='gray')\n",
    "    for y_prob, label in zip(y_probs_list, labels):\n",
    "        prob_true, prob_pred = calibration_curve(y_true, y_prob, n_bins=10, strategy='quantile')\n",
    "        plt.plot(prob_pred, prob_true, marker='o', label=label)\n",
    "    plt.title(title)\n",
    "    plt.xlabel('Mean Predicted Probability')\n",
    "    plt.ylabel('Fraction of Positives')\n",
    "    plt.legend(loc='best')\n",
    "    plt.grid()\n",
    "    plt.show()"
   ]
  },
  {
   "cell_type": "code",
   "execution_count": 18,
   "metadata": {},
   "outputs": [
    {
     "name": "stdout",
     "output_type": "stream",
     "text": [
      "Brier Score (Def): 0.1268\n",
      "Brier Score (Sigmoid): 0.1268\n",
      "Brier Score (Isotonic): 0.1263\n"
     ]
    },
    {
     "data": {
      "image/png": "[encoded data removed]",
      "text/plain": [
       "<Figure size 800x600 with 1 Axes>"
      ]
     },
     "metadata": {},
     "output_type": "display_data"
    }
   ],
   "source": [
    "stacking_model.fit(X_train[columns], y_train)\n",
    "y_prob = stacking_model.predict_proba(X_test[columns])[:,1]\n",
    "brier_def = brier_score_loss(y_test, y_prob)\n",
    "print(f\"Brier Score (Def): {brier_def:.4f}\")\n",
    "\n",
    "rf_sigmoid = CalibratedClassifierCV(stacking_model, method='sigmoid', cv=skf, n_jobs=-1)\n",
    "rf_sigmoid.fit(X_train, y_train)\n",
    "y_prob_sigmoid = rf_sigmoid.predict_proba(X_test)[:,1]\n",
    "brier_sigmoid = brier_score_loss(y_test, y_prob_sigmoid)\n",
    "print(f\"Brier Score (Sigmoid): {brier_sigmoid:.4f}\")\n",
    "\n",
    "rf_isotonic = CalibratedClassifierCV(stacking_model, method='isotonic', cv=skf, n_jobs=-1)\n",
    "rf_isotonic.fit(X_train, y_train)\n",
    "y_prob_isotonic = rf_isotonic.predict_proba(X_test)[:,1]\n",
    "brier_isotonic = brier_score_loss(y_test, y_prob_isotonic)\n",
    "print(f\"Brier Score (Isotonic): {brier_isotonic:.4f}\")\n",
    "\n",
    "plot_calibration_curve(\n",
    "    y_test,\n",
    "    [y_prob, y_prob_sigmoid, y_prob_isotonic],\n",
    "    ['Def', 'Sigmoid', 'Isotonic'],\n",
    "    'Calibration Plot (Comparison)'\n",
    ")"
   ]
  },
  {
   "cell_type": "code",
   "execution_count": 19,
   "metadata": {},
   "outputs": [
    {
     "name": "stdout",
     "output_type": "stream",
     "text": [
      "ROC-AUC (def)      0.89424\n",
      "ROC-AUC (sigmoid)  0.89379\n",
      "ROC-AUC (isotonic) 0.89354\n"
     ]
    }
   ],
   "source": [
    "print('ROC-AUC (def)     ', round(roc_auc_score(y_test, y_prob),5))\n",
    "print('ROC-AUC (sigmoid) ', round(roc_auc_score(y_test, y_prob_sigmoid),5))\n",
    "print('ROC-AUC (isotonic)', round(roc_auc_score(y_test, y_prob_isotonic),5))"
   ]
  }
 ],
 "metadata": {
  "kernelspec": {
   "display_name": "base",
   "language": "python",
   "name": "python3"
  },
  "language_info": {
   "codemirror_mode": {
    "name": "ipython",
    "version": 3
   },
   "file_extension": ".py",
   "mimetype": "text/x-python",
   "name": "python",
   "nbconvert_exporter": "python",
   "pygments_lexer": "ipython3",
   "version": "3.12.4"
  }
 },
 "nbformat": 4,
 "nbformat_minor": 2
}
